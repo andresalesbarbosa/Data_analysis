{
 "cells": [
  {
   "cell_type": "code",
   "execution_count": 2,
   "metadata": {
    "collapsed": true
   },
   "outputs": [],
   "source": [
    "import pandas as pd\n",
    "import numpy as np\n",
    "import statsmodels.formula.api as smf\n",
    "from IPython.display import display as Idisplay\n",
    "import matplotlib.pyplot as plt\n",
    "%matplotlib inline\n"
   ]
  },
  {
   "cell_type": "code",
   "execution_count": 3,
   "metadata": {
    "collapsed": false
   },
   "outputs": [],
   "source": [
    "df = pd.read_excel('data.xlsx',sheetname='Andrey - Simulation',header=0,skiprows=[0,1,2,4,3,6,7])\n",
    "df.rename(columns={'pH': 'pH - inflow','Temp': 'Temp - inflow','Conductivity': 'Conductivity - inflow',\n",
    "                   'COD':'COD - inflow', 'Ntotal':'Ntotal - inflow','NH4-N':'NH4-N - inflow',\n",
    "                   'NO3-N':'NO3-N - inflow','NO2-N':'NO2-N - inflow','PO4-Ptotal ':'PO4-Ptotal - inflow',\n",
    "                   'PO4-P':'PO4-P - inflow','Coloration  (#777)':'Coloration - 436nm - inflow',\n",
    "                   'Unnamed: 13':'Coloration - 525nm - inflow','Unnamed: 14':'Coloration - 620nm - inflow',\n",
    "                   'Flux':'Flux - inflow',' volume compensation with outflow':' volume compensation with outflow',\n",
    "                   'pH.1':'pH - reactor','Conductivity.1':'Conductivity_-_reactor',\n",
    "                   'Resistance time': 'Resistance time', 'Total Suspended Solids': 'TSS',\n",
    "                   'Volatile Suspended Solids': 'VSS', 'Sludge Loading': 'Sludge Loading','pH.2':'pH - outflow',\n",
    "                   'Temp.1':'Temp - outflow','Conductivity.2':'Conductivity - outflow','COD.1':'COD - outflow',\n",
    "                   'Ntotal.1':'Ntotal - outflow','NH4-N.1':'NH4-N - outflow','NO3-N.1':'NO3-N - outflow',\n",
    "                   'NO2-N.1':'NO2-N - outflow','PO4-Ptotal .1':'PO4-Ptotal - outflow','PO4-P.1':'PO4-P - outflow',\n",
    "                   'Coloration (no dilution)     (#777)':'Coloration - 436nm - outflow',\n",
    "                   'Unnamed: 38':'Coloration - 525nm - outflow','Unnamed: 39':'Coloration - 620nm - outflow',\n",
    "                   'Flux.1':'Flux - outflow','Unnamed: 42':'Comment'},inplace=True)\n",
    "columns = df.columns\n",
    "new_columns = []\n",
    "\n",
    "for name in columns:\n",
    "    new_name = name.replace(' ','_')\n",
    "    new_columns.append(new_name)\n",
    "    \n",
    "df.columns = new_columns"
   ]
  },
  {
   "cell_type": "code",
   "execution_count": 4,
   "metadata": {
    "collapsed": false
   },
   "outputs": [],
   "source": [
    "personal = df.loc[:,'Date':'Day']\n",
    "inflow = df.loc[:,'pH_-_inflow':'_volume_compensation_with_outflow']\n",
    "reactor = df.loc[:,'Reactor_volume':'Sludge_Loading']\n",
    "outflow = df.loc[:,'pH_-_outflow':'Flux_-_outflow']\n",
    "work = df.loc[:,'pH_-_inflow':'Sludge_Loading']\n"
   ]
  },
  {
   "cell_type": "code",
   "execution_count": null,
   "metadata": {
    "collapsed": false,
    "scrolled": false
   },
   "outputs": [
    {
     "name": "stdout",
     "output_type": "stream",
     "text": [
      "Intercept           8.233693e-12\n",
      "Q('pH_-_inflow')    2.314415e-02\n",
      "dtype: float64\n",
      " \n",
      "Intercept             0.000030\n",
      "Q('Temp_-_inflow')    0.009028\n",
      "dtype: float64\n",
      " \n",
      "Intercept                     0.515303\n",
      "Q('Conductivity_-_inflow')    0.001447\n",
      "dtype: float64\n",
      " \n",
      "Intercept            1.416893e-03\n",
      "Q('COD_-_inflow')    2.100151e-08\n",
      "dtype: float64\n",
      " \n",
      "Intercept               2.769487e-10\n",
      "Q('Ntotal_-_inflow')    4.738718e-03\n",
      "dtype: float64"
     ]
    }
   ],
   "source": [
    "#Correlation for COD - outflow\n",
    "work['COD_-_outflow'] = outflow.loc[:,'COD_-_outflow']\n",
    "for name in work.columns:\n",
    "    mean = work[name].mean()\n",
    "    work[name].fillna(mean,inplace=True)\n",
    "\n",
    "t = []\n",
    "for name in work.columns:\n",
    "    try:\n",
    "        if name not in work.columns:\n",
    "            continue\n",
    "        if work[name].var() < 1e-7:\n",
    "            continue\n",
    "        \n",
    "        \n",
    "        formula = \"Q('COD_-_outflow') ~ Q('\"+name+\"')\"\n",
    "        model = smf.ols(formula,data=work)\n",
    "        \n",
    "        results = model.fit()\n",
    "    except (ValueError, TypeError):\n",
    "        continue\n",
    "        \n",
    "    t.append((results.rsquared, name))\n",
    "    \n",
    "    print(results.pvalues)\n",
    "    print(' ')\n",
    "    fig, ax = plt.subplots(figsize=(8,6))\n",
    "    ax.plot(work[name], work['COD_-_outflow'], 'o', label=\"Data\")\n",
    "    ax.plot(work[name], results.fittedvalues, 'r--.', label=\"Predicted\")\n",
    "    plt.xlabel(name,fontsize=14)\n",
    "    plt.ylabel('COD - outflow',fontsize=14)\n",
    "    plt.title('Variation of COD in outflow by variation of '+name,fontsize=14)\n",
    "    plt.grid(True)\n",
    "    legend = ax.legend(loc=\"best\")\n",
    "    fig.savefig('plot_'+name+'.png')\n",
    "    \n",
    "\n",
    "t.sort(reverse=True)\n",
    "for mse,name in t:\n",
    "    print(name,mse)"
   ]
  },
  {
   "cell_type": "code",
   "execution_count": 136,
   "metadata": {
    "collapsed": true
   },
   "outputs": [],
   "source": [
    "#Taking the firsts measurements and put them inside the formule, two by two\n",
    "formula1 = \"Q('pH_-_outflow') ~ + Q('pH_-_reactor')+Q('Conductivity_-_reactor')\"\n",
    "formula2 = \"Q('pH_-_outflow') ~ + Q('pH_-_reactor')+Q('NH4-N_-_inflow')\"\n",
    "formula3 = \"Q('pH_-_outflow') ~ + Q('pH_-_reactor')+Q('Flux_-_inflow')\"\n",
    "formula4 = \"Q('pH_-_outflow') ~ + Q('pH_-_reactor')+Q('PO4-P_-_inflow')\"\n",
    "  \n",
    "\n"
   ]
  },
  {
   "cell_type": "code",
   "execution_count": 137,
   "metadata": {
    "collapsed": false
   },
   "outputs": [
    {
     "name": "stdout",
     "output_type": "stream",
     "text": [
      "                            OLS Regression Results                            \n",
      "==============================================================================\n",
      "Dep. Variable:      Q('pH_-_outflow')   R-squared:                       0.297\n",
      "Model:                            OLS   Adj. R-squared:                  0.291\n",
      "Method:                 Least Squares   F-statistic:                     47.69\n",
      "Date:                Tue, 19 Jan 2016   Prob (F-statistic):           5.28e-18\n",
      "Time:                        16:47:49   Log-Likelihood:                -2.9154\n",
      "No. Observations:                 229   AIC:                             11.83\n",
      "Df Residuals:                     226   BIC:                             22.13\n",
      "Df Model:                           2                                         \n",
      "Covariance Type:            nonrobust                                         \n",
      "===============================================================================================\n",
      "                                  coef    std err          t      P>|t|      [95.0% Conf. Int.]\n",
      "-----------------------------------------------------------------------------------------------\n",
      "Intercept                       4.7202      0.491      9.615      0.000         3.753     5.688\n",
      "Q('pH_-_reactor')               0.4732      0.056      8.384      0.000         0.362     0.584\n",
      "Q('Conductivity_-_reactor')    -0.0003      0.000     -2.556      0.011        -0.001 -7.61e-05\n",
      "==============================================================================\n",
      "Omnibus:                       19.017   Durbin-Watson:                   1.199\n",
      "Prob(Omnibus):                  0.000   Jarque-Bera (JB):               23.197\n",
      "Skew:                          -0.614   Prob(JB):                     9.18e-06\n",
      "Kurtosis:                       3.961   Cond. No.                     2.98e+04\n",
      "==============================================================================\n",
      "\n",
      "Warnings:\n",
      "[1] Standard Errors assume that the covariance matrix of the errors is correctly specified.\n",
      "[2] The condition number is large, 2.98e+04. This might indicate that there are\n",
      "strong multicollinearity or other numerical problems.\n"
     ]
    }
   ],
   "source": [
    "model1 = smf.ols(formula1,data=work)\n",
    "res1 = model1.fit()\n",
    "print(res1.summary())\n"
   ]
  }
 ],
 "metadata": {
  "kernelspec": {
   "display_name": "Python 3",
   "language": "python",
   "name": "python3"
  },
  "language_info": {
   "codemirror_mode": {
    "name": "ipython",
    "version": 3
   },
   "file_extension": ".py",
   "mimetype": "text/x-python",
   "name": "python",
   "nbconvert_exporter": "python",
   "pygments_lexer": "ipython3",
   "version": "3.4.4"
  }
 },
 "nbformat": 4,
 "nbformat_minor": 0
}
